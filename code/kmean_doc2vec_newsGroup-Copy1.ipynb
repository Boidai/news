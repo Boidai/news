{
 "cells": [
  {
   "cell_type": "code",
   "execution_count": 1,
   "metadata": {},
   "outputs": [
    {
     "name": "stderr",
     "output_type": "stream",
     "text": [
      "C:\\Users\\Big data\\AppData\\Local\\Programs\\Python\\Python36\\lib\\site-packages\\gensim\\utils.py:1212: UserWarning: detected Windows; aliasing chunkize to chunkize_serial\n",
      "  warnings.warn(\"detected Windows; aliasing chunkize to chunkize_serial\")\n"
     ]
    }
   ],
   "source": [
    "import pandas as pd\n",
    "import json\n",
    "import sys\n",
    "import os\n",
    "import gensim\n",
    "import numpy as np\n",
    "import glob\n",
    "from sklearn.cluster import KMeans\n",
    "from gensim.models.doc2vec import Doc2Vec"
   ]
  },
  {
   "cell_type": "code",
   "execution_count": 2,
   "metadata": {},
   "outputs": [
    {
     "name": "stdout",
     "output_type": "stream",
     "text": [
      "                                             content                 date_  \\\n",
      "0  前總統馬英九（右）30日在立法院出席「青島東很多派對」第3屆國會青年體驗營講座，進場時向一旁...           2018-06-30    \n",
      "1  國民黨台北市長參選人丁守中（前右）30日在台北出席「中華海峽兩岸客家文經交流協會」會員大會，...           2018-06-30    \n",
      "2  國民黨台北市長參選人丁守中（左）30日在台北出席「中華海峽兩岸客家文經交流協會」會員大會，爭...           2018-06-30    \n",
      "3  （中央社記者蕭博陽南投縣30日電）總統蔡英文今天視察草屯植物公園，總統肯定草屯鎮長洪國浩施政...  2018-06-30 13:09:41    \n",
      "4  （中央社記者王淑芬高雄30日電）總統府秘書長陳菊今天南下出席高雄市旗山區圖書分館落成。她說，...  2018-06-30 12:45:41    \n",
      "\n",
      "                                             infor source  tag  \\\n",
      "0                            2018-06-30 /中央社 /國內政治   中央社   NaN   \n",
      "1                            2018-06-30 /中央社 /國內政治   中央社   NaN   \n",
      "2                            2018-06-30 /中央社 /國內政治   中央社   NaN   \n",
      "3  2018-06-30 13:09:41 /中央社 /國內政治 /中央社記者蕭博陽南投縣30日電   中央社   NaN   \n",
      "4   2018-06-30 12:45:41 /中央社 /國內政治 /中央社記者王淑芬高雄30日電   中央社   NaN   \n",
      "\n",
      "                title     type  \n",
      "0   馬英九出席國會青年體驗營（1）\\n  printed  \n",
      "1      丁守中與吳伯雄同台（2）\\n  printed  \n",
      "2      丁守中與吳伯雄同台（1）\\n  printed  \n",
      "3  墓仔埔變公園 總統肯定洪國浩施政\\n  printed  \n",
      "4  陳菊：為陳其邁輔選是應該也是責任\\n  printed  \n"
     ]
    },
    {
     "name": "stderr",
     "output_type": "stream",
     "text": [
      "C:\\Users\\Big data\\AppData\\Local\\Programs\\Python\\Python36\\lib\\site-packages\\ipykernel_launcher.py:6: FutureWarning: Sorting because non-concatenation axis is not aligned. A future version\n",
      "of pandas will change to not sort by default.\n",
      "\n",
      "To accept the future behavior, pass 'sort=False'.\n",
      "\n",
      "To retain the current behavior and silence the warning, pass 'sort=True'.\n",
      "\n",
      "  \n"
     ]
    }
   ],
   "source": [
    "df_all = pd.DataFrame(columns=[ 'content', 'date_', 'infor', 'source', 'tag','title', 'type', ])\n",
    "for files in glob.glob('E:/news_project/news_beforeETL/printed_news/printed_news_1040'):\n",
    "    with open(files,\"r\", encoding=\"utf-8\") as json_data:\n",
    "        data = json.load(json_data)\n",
    "        df = pd.DataFrame.from_dict(data, orient='columns')\n",
    "        df_all=pd.concat([df_all,df],axis=0,ignore_index=True )\n",
    "print(df_all.head())"
   ]
  },
  {
   "cell_type": "code",
   "execution_count": 3,
   "metadata": {},
   "outputs": [
    {
     "name": "stdout",
     "output_type": "stream",
     "text": [
      "                                             content               title\n",
      "0  前總統馬英九（右）30日在立法院出席「青島東很多派對」第3屆國會青年體驗營講座，進場時向一旁...   馬英九出席國會青年體驗營（1）\\n\n",
      "1  國民黨台北市長參選人丁守中（前右）30日在台北出席「中華海峽兩岸客家文經交流協會」會員大會，...      丁守中與吳伯雄同台（2）\\n\n",
      "2  國民黨台北市長參選人丁守中（左）30日在台北出席「中華海峽兩岸客家文經交流協會」會員大會，爭...      丁守中與吳伯雄同台（1）\\n\n",
      "3  （中央社記者蕭博陽南投縣30日電）總統蔡英文今天視察草屯植物公園，總統肯定草屯鎮長洪國浩施政...  墓仔埔變公園 總統肯定洪國浩施政\\n\n",
      "4  （中央社記者王淑芬高雄30日電）總統府秘書長陳菊今天南下出席高雄市旗山區圖書分館落成。她說，...  陳菊：為陳其邁輔選是應該也是責任\\n\n"
     ]
    }
   ],
   "source": [
    "df=df_all\n",
    "#df = df.drop([\"author\"], axis=1)\n",
    "df = df.drop([\"date_\"], axis=1)\n",
    "df = df.drop([\"infor\"], axis=1)\n",
    "df = df.drop([\"tag\"], axis=1)\n",
    "df = df.drop([\"source\"], axis=1)\n",
    "df = df.drop([\"type\"], axis=1)\n",
    "#df = df.drop([\"url\"], axis=1)\n",
    "print(df.head())"
   ]
  },
  {
   "cell_type": "code",
   "execution_count": 4,
   "metadata": {},
   "outputs": [
    {
     "name": "stdout",
     "output_type": "stream",
     "text": [
      "                                             content               title\n",
      "0  前總統馬英九（右）30日在立法院出席「青島東很多派對」第3屆國會青年體驗營講座，進場時向一旁...   馬英九出席國會青年體驗營（1）\\n\n",
      "1  國民黨台北市長參選人丁守中（前右）30日在台北出席「中華海峽兩岸客家文經交流協會」會員大會，...      丁守中與吳伯雄同台（2）\\n\n",
      "2  國民黨台北市長參選人丁守中（左）30日在台北出席「中華海峽兩岸客家文經交流協會」會員大會，爭...      丁守中與吳伯雄同台（1）\\n\n",
      "3  （中央社記者蕭博陽南投縣30日電）總統蔡英文今天視察草屯植物公園，總統肯定草屯鎮長洪國浩施政...  墓仔埔變公園 總統肯定洪國浩施政\\n\n",
      "4  （中央社記者王淑芬高雄30日電）總統府秘書長陳菊今天南下出席高雄市旗山區圖書分館落成。她說，...  陳菊：為陳其邁輔選是應該也是責任\\n\n"
     ]
    }
   ],
   "source": [
    "print(df.head())"
   ]
  },
  {
   "cell_type": "code",
   "execution_count": 5,
   "metadata": {},
   "outputs": [],
   "source": [
    "def split_news(news):\n",
    "    return \" \".join(jieba.cut(news))\n",
    "\n",
    "def process_news(df):\n",
    "    df['content'] = df ['content'].apply(split_news)\n",
    "    df['title'] = df['title'].str.replace('\\r','')\n",
    "    df['title'] = df['title'].str.replace('\\n','')\n",
    "    return df"
   ]
  },
  {
   "cell_type": "code",
   "execution_count": 6,
   "metadata": {},
   "outputs": [
    {
     "name": "stderr",
     "output_type": "stream",
     "text": [
      "Building prefix dict from the default dictionary ...\n",
      "Loading model from cache C:\\Users\\BIGDAT~1\\AppData\\Local\\Temp\\jieba.cache\n",
      "Loading model cost 0.743 seconds.\n",
      "Prefix dict has been built succesfully.\n"
     ]
    }
   ],
   "source": [
    "import jieba\n",
    "df = process_news(df)"
   ]
  },
  {
   "cell_type": "code",
   "execution_count": 7,
   "metadata": {
    "scrolled": true
   },
   "outputs": [
    {
     "data": {
      "text/html": [
       "<div>\n",
       "<style scoped>\n",
       "    .dataframe tbody tr th:only-of-type {\n",
       "        vertical-align: middle;\n",
       "    }\n",
       "\n",
       "    .dataframe tbody tr th {\n",
       "        vertical-align: top;\n",
       "    }\n",
       "\n",
       "    .dataframe thead th {\n",
       "        text-align: right;\n",
       "    }\n",
       "</style>\n",
       "<table border=\"1\" class=\"dataframe\">\n",
       "  <thead>\n",
       "    <tr style=\"text-align: right;\">\n",
       "      <th></th>\n",
       "      <th>content</th>\n",
       "      <th>title</th>\n",
       "    </tr>\n",
       "  </thead>\n",
       "  <tbody>\n",
       "    <tr>\n",
       "      <th>0</th>\n",
       "      <td>前 總統 馬 英九 （ 右 ） 30 日 在 立法院 出席 「 青島東 很多 派 對 」 第...</td>\n",
       "      <td>馬英九出席國會青年體驗營（1）</td>\n",
       "    </tr>\n",
       "    <tr>\n",
       "      <th>1</th>\n",
       "      <td>國民黨 台北市 長 參選人 丁守中 （ 前右 ） 30 日 在 台北 出席 「 中華海峽 兩...</td>\n",
       "      <td>丁守中與吳伯雄同台（2）</td>\n",
       "    </tr>\n",
       "    <tr>\n",
       "      <th>2</th>\n",
       "      <td>國民黨 台北市 長 參選人 丁守中 （ 左 ） 30 日 在 台北 出席 「 中華海峽 兩岸...</td>\n",
       "      <td>丁守中與吳伯雄同台（1）</td>\n",
       "    </tr>\n",
       "    <tr>\n",
       "      <th>3</th>\n",
       "      <td>（ 中央社 記者 蕭博陽 南投 縣 30 日電 ） 總統 蔡 英文 今天 視察 草屯 植物 ...</td>\n",
       "      <td>墓仔埔變公園 總統肯定洪國浩施政</td>\n",
       "    </tr>\n",
       "    <tr>\n",
       "      <th>4</th>\n",
       "      <td>（ 中央社 記者 王淑芬 高雄 30 日電 ） 總統府 秘書長 陳 菊 今天 南下 出席 高...</td>\n",
       "      <td>陳菊：為陳其邁輔選是應該也是責任</td>\n",
       "    </tr>\n",
       "  </tbody>\n",
       "</table>\n",
       "</div>"
      ],
      "text/plain": [
       "                                             content             title\n",
       "0  前 總統 馬 英九 （ 右 ） 30 日 在 立法院 出席 「 青島東 很多 派 對 」 第...   馬英九出席國會青年體驗營（1）\n",
       "1  國民黨 台北市 長 參選人 丁守中 （ 前右 ） 30 日 在 台北 出席 「 中華海峽 兩...      丁守中與吳伯雄同台（2）\n",
       "2  國民黨 台北市 長 參選人 丁守中 （ 左 ） 30 日 在 台北 出席 「 中華海峽 兩岸...      丁守中與吳伯雄同台（1）\n",
       "3  （ 中央社 記者 蕭博陽 南投 縣 30 日電 ） 總統 蔡 英文 今天 視察 草屯 植物 ...  墓仔埔變公園 總統肯定洪國浩施政\n",
       "4  （ 中央社 記者 王淑芬 高雄 30 日電 ） 總統府 秘書長 陳 菊 今天 南下 出席 高...  陳菊：為陳其邁輔選是應該也是責任"
      ]
     },
     "execution_count": 7,
     "metadata": {},
     "output_type": "execute_result"
    }
   ],
   "source": [
    "df.head()"
   ]
  },
  {
   "cell_type": "code",
   "execution_count": 8,
   "metadata": {},
   "outputs": [],
   "source": [
    "#取出content列為一個list\n",
    "b=list(df['content'])"
   ]
  },
  {
   "cell_type": "code",
   "execution_count": 9,
   "metadata": {},
   "outputs": [],
   "source": [
    "### 取所有'content'欄位的值\n",
    "# df.loc[:,['content']]\n",
    "\n",
    "### 取第0個值_行，在第0個欄位('content')_欄\n",
    "# t=df.iloc[0,0]\n",
    "# print(type(t))\n",
    "\n",
    "### 文檔放到list中\n",
    "# data = []\n",
    "# for d in range(0,300):\n",
    "#     t=df.iloc[d,0]\n",
    "#     data.append(t)"
   ]
  },
  {
   "cell_type": "code",
   "execution_count": 10,
   "metadata": {},
   "outputs": [],
   "source": [
    "TaggededDocument=gensim.models.doc2vec.TaggedDocument"
   ]
  },
  {
   "cell_type": "code",
   "execution_count": 11,
   "metadata": {},
   "outputs": [],
   "source": [
    "x_train=[]\n",
    "for i, text in enumerate(b):\n",
    "    word_list = text.split(' ')\n",
    "    l = len(word_list)\n",
    "    word_list[l-1]=word_list[l-1].strip()\n",
    "    document=TaggededDocument(word_list,tags=[i])\n",
    "    x_train.append(document)\n",
    "#print(x_train)\n",
    "c = x_train"
   ]
  },
  {
   "cell_type": "markdown",
   "metadata": {},
   "source": [
    "*sentences：可以是一个list，对于大语料集，建议使用BrownCorpus,Text8Corpus或lineSentence构建。\n",
    "*size：是指特征向量的维度，默认为100。\n",
    "*alpha: 是初始的学习速率，在训练过程中会线性地递减到min_alpha。\n",
    "*window：窗口大小，表示当前词与预测词在一个句子中的最大距离是多少。\n",
    "*min_count:可以对字典做截断. 词频少于min_count次数的单词会被丢弃掉, 默认值为5。\n",
    "*max_vocab_size: 设置词向量构建期间的RAM限制，设置成None则没有限制。\n",
    "*sample: 高频词汇的随机降采样的配置阈值，默认为1e-3，范围是(0,1e-5)。\n",
    "*seed：用于随机数发生器。与初始化词向量有关。\n",
    "*workers：用于控制训练的并行数。\n",
    "*min_alpha：学习率的最小值。\n",
    "*sg： 用于设置训练算法，默认为0，对应CBOW算法；sg=1则采用skip-gram算法。\n",
    "*hs: 如果为1则会采用hierarchica·softmax技巧。如果设置为0（默认），则使用negative sampling。\n",
    "*negative: 如果>0,则会采用negativesampling，用于设置多少个noise words（一般是5-20）。\n",
    "*cbow_mean: 如果为0，则采用上下文词向量的和，如果为1（default）则采用均值，只有使用CBOW的时候才起作用。\n",
    "*hashfxn： hash函数来初始化权重，默认使用python的hash函数。\n",
    "*iter： 迭代次数，默认为5。\n",
    "*trim_rule： 用于设置词汇表的整理规则，指定那些单词要留下，哪些要被删除。可以设置为None（min_count会被使用）。\n",
    "*sorted_vocab： 如果为1（默认），则在分配word index 的时候会先对单词基于频率降序排序。\n",
    "*batch_words：每一批的传递给线程的单词的数量，默认为10000。"
   ]
  },
  {
   "cell_type": "code",
   "execution_count": 12,
   "metadata": {},
   "outputs": [],
   "source": [
    "model=Doc2Vec(x_train, min_count=1, window=3, vector_size=300, negative=5,workers=4)\n",
    "model.train(x_train,total_examples=model.corpus_count,epochs=10)"
   ]
  },
  {
   "cell_type": "code",
   "execution_count": 13,
   "metadata": {},
   "outputs": [],
   "source": [
    "model_dm=model"
   ]
  },
  {
   "cell_type": "code",
   "execution_count": 14,
   "metadata": {},
   "outputs": [
    {
     "name": "stderr",
     "output_type": "stream",
     "text": [
      "C:\\Users\\Big data\\AppData\\Local\\Programs\\Python\\Python36\\lib\\site-packages\\gensim\\matutils.py:737: FutureWarning: Conversion of the second argument of issubdtype from `int` to `np.signedinteger` is deprecated. In future, it will be treated as `np.int32 == np.dtype(int).type`.\n",
      "  if np.issubdtype(vec.dtype, np.int):\n"
     ]
    },
    {
     "data": {
      "text/plain": [
       "[(110, 0.5431971549987793),\n",
       " (192, 0.5304972529411316),\n",
       " (195, 0.518020510673523)]"
      ]
     },
     "execution_count": 14,
     "metadata": {},
     "output_type": "execute_result"
    }
   ],
   "source": [
    "#預測新句子的向量Paragraph vector了,這裡用gensim裡infer_vector(),\n",
    "#預測新的句子，這裡根據經驗，alpha（學習步長）設置小一些，\n",
    "#迭代次數設置大一些。找到訓練樣本中與這個句子最相近的10個句子。\n",
    "#可以看到訓練出來的結果與測試的新句子是有關聯的。\n",
    "strl=df.iloc[10,0]\n",
    "test_text=strl.split(' ')\n",
    "#得到向量array命名為inferred_vector\n",
    "inferred_vector=model_dm.infer_vector(doc_words=test_text,alpha=0.025,steps=500)\n",
    "\n",
    "sims=model_dm.docvecs.most_similar([inferred_vector],topn=3)\n",
    "sims"
   ]
  },
  {
   "cell_type": "code",
   "execution_count": 15,
   "metadata": {},
   "outputs": [
    {
     "name": "stdout",
     "output_type": "stream",
     "text": [
      "110 0.5431971549987793\n",
      "【 記者 簡玲穎 台北 報導 】 日本 產經 新聞 報導 專訪 外交部 長 吳釗燮 的 內容 ， 中國 駐 日 使館 向 產經 抗議 ， 指報 導主張 台獨 。 外交部 28 日 說 ， 中國 干預 日本 、 台灣 的 新聞 、 言論 自由 ， 對 這樣 的 作法 ， 「 完全 無法 接受 」 。 產經 早報 27 日 報導 專訪 吳釗燮 的 內容 ， 吳釗燮 表示 ， 日本 和 台灣 同樣 面臨 中國 軍事 與 威脅 ， 呼籲台 日 進行 安全 保障 對話 。 報導 指出 ， 台日 沒有 邦交 ， 高級 官員 要求 雙方 對 話 實屬 罕見 ； 但 中國 在 台灣 周邊 軍事動作 頻頻 ， 吳釗燮 盼台 日進 一步 加強關 係 因應 。 不過 ， 產經 電子 報 昨 27 日 晚間 報導 ， 中國 駐 日 使館 已 向 產經 新聞 提出 抗議 ， 指台灣 是 中國 的 一部 份 ， 報導 主張 台灣 獨立 ， 中國 強烈 反對 。 對此 ， 外交部 發言人 李憲章 28 日 在 外交部 例行 新聞 說 明會 回應 媒體詢 問時 指出 ， 中國 的 做法 嚴重 干 預新聞 獨立 與 自由 。 中國 威權 專制 ， 不但 沒有 容忍 國內 新聞 、 言論 自由 的 空間 ， 還進 一步 干預 日本 、 台灣 的 新聞 、 言論 自由 。 李憲章 說 ， 對 於 中國 這樣 的 作法 ， 「 我們 覺得 完全 沒有 辦法 接受 」 。 這也 顯示 中國 的 作法 已經 嚴重 威脅 自由 、 民主 的 普世價值 理念 ； 外交部 呼籲 理念 相近 國家團 結起 來 ， 共同 阻止 這樣 趨勢 的 蔓延 。 對 於 媒體 問及 中國施 壓國際 航空公司 更改 對 台灣 的 稱呼 矮化 台灣 ， 李憲章 強調 ， 中國大陸 打壓 台灣 無 所 不 在 ， 並擴 及 國際 企業 和 航空公司 ， 外交部 對 遭到 中國施 壓 的 企業 深表同情 。 他 說 ， 中國大陸 打壓 台灣 的 做法 ， 不僅 引起 台灣 人民 憤慨 ， 也 在 國際上 犯眾 怒 ， 公然 違背 國際 貿易 自由 的 原則 跟 精神 。 2018 / 6 / 28 矮化 台灣   日國會 議員 看不下去 【 本報 綜合 報導 】 針對 中國 民航局 強制 要求 外國 航空公司 變 更 台灣 名稱 一事 ， 日本 跨黨 派 國會 議員 組織 「 日華議員懇 談會 」 （ 日華懇 ） 27 日召開 緊急 幹部會 議並 做出 決議 ， 盼 日本政府 明示 方針 。 日華懇 做出 的 決議 說 ， 外國 當局 對 日本 的 航空公司 有關 航空 運輸 的 干涉 ， 日華懇 認為 這應 該視 為 國家間 的 問題 ， 希望 日本政府 明示 國家 方針 。 日華懇 的 決議 指出 ， 就 一般 外交 理論 而言 ， 任何 疑似 「 以 力量 片面 改變 現狀 之 企圖 」 ， 都 應視 為 攸 關國 家主 權的 安全 保障 問題 ， 政府 內部應 立即 進行 研議 。 決議 還記載 ， 政府 應 充分 參考 同盟 國家 的 因應 作法 ， 視情 主導 ， 並與 同盟 國進行 深入 討論 及 協調 ， 採取 具體 因應 作為 及 共同 立場 。 日華懇 由會長 、 眾議員 古屋 圭司 與 日本政府 發言人 、 內閣 官房 長 官菅義偉舉 行會 談 ， 並 交付 日華懇 的 決議文 。 台灣 駐 日 代表 處強 調 ， 27 日午 日華懇 事務局 長 、 眾議員 木原 稔 專程 到 駐 日 代表 處 ， 向 駐 日 代表 謝長 廷 說 明處理 此事 的 經過 。 謝長 廷 表示 ， 個 別民間 企業 要 對 抗外國 政府 的 壓力 ， 確實 是 極為 無力 與 困難 ， 如果 全世界 的 國家 都 對 其境 內 的 企業 強制 要求 事業 內容 以外 的 事項 ， 不僅 是 違背 自由 貿易 精神 ， 也 是 不 文明 的 行為 ， 將 造成 天下 大亂 。 對 於 日華懇 做出 力挺 台灣 的 決議 ， 謝長 廷表達 肯定 並致 謝 。 日本 的 日本航空公司 （ JAL ） 與 全日空 航空公司 （ ANA ） 受到 中國施 壓 ， 將 售票 網 站上 的 「 台灣 」 改為 「 中國 台灣 」 ， 引起 外交部 抗議 。 2018 / 6 / 28  0.5431971549987793 664\n",
      "192 0.5304972529411316\n",
      "（ 中央社 華盛頓 29 日 綜合 外電 報導 ） 兩名 美國 官員 告訴 美國 有線 電視 新聞網 （ CNN ） ， 美國 國務院 已 要求 派遣 陸戰隊 至 台灣 ， 以協助 防衛美國 在 台 協會 （ AIT ） 。 CNN 報導 ， 若國務院 的 要求 獲得 同意 ， 將是 近 40 年來 首見 美軍陸 戰隊 駐 防美國 駐台 外交 機構 。 一名 美國 官員 表示 ， 數週前 已接 獲國務院 提出 派 駐 「 美國陸 戰隊 使館 警衛隊 」 的 要求 ， 尚未 獲得 正式 批准 。 美國 國務院 外交 安全局 （ Diplomatic   Security   Service ） 和 陸戰隊 持續 就 相關 部署 進行 協調 中 。 美國 國務院 發言人 不願 證實 這項 要求 ， 僅告訴 CNN ： 「 我們 不 討論 有 關保護 我國 機構 或 人員 的 特定 安全 事務 。 」 中國 外交部 發言人陸 慷 今天 在 記者 會 上 ， 被 問到 美國 可能 派 陸戰隊 赴 台灣 的 消息 時 ， 他 表示 ， 美國應 該 謹 慎行 事 。 陸慷說 ： 「 中美關 係 的 政治 先決 條件 ， 是 美國 嚴格 遵守 自身 的 『 一個 中國 』 承諾 ， 不 與 台灣 有 任何 官方 交流 或 軍事 接觸 。 美國 很 清楚 中國 的 立場 ， 也 知道 為 了 避免 影響 雙邊 整體關 係 ， 必須 在 這件 事 上 謹 慎行 事 。 」 （ 譯者 ： 張正 芊 / 核稿 ： 嚴思祺 ） 1070629  0.5304972529411316 238\n",
      "195 0.518020510673523\n",
      "（ 中央社 華盛頓 29 日 綜合 外電 報導 ） 兩名 美國 官員 告訴 美國 有線 電視 新聞網 （ CNN ） ， 美國 國務院 已 要求 派遣 陸戰隊 至 台灣 ， 以協助 防衛美國 在 台 協會 （ AIT ） 。 CNN 報導 ， 若國務院 的 要求 獲得 同意 ， 將是 近 40 年來 首見 美軍陸 戰隊 駐 防美國 駐台 外交 機構 。 一名 美國 官員 表示 ， 數週前 已接 獲國務院 提出 派 駐 「 美國陸 戰隊 使館 警衛隊 」 的 要求 ， 尚未 獲得 正式 批准 。 美國 國務院 外交 安全局 （ Diplomatic   Security   Service ） 和 陸戰隊 持續 就 相關 部署 進行 協調 中 。 美國 國務院 發言人 不願 證實 這項 要求 ， 僅告訴 CNN ： 「 我們 不 討論 有 關保護 我國 機構 或 人員 的 特定 安全 事務 。 」 中國 外交部 發言人陸 慷 今天 在 記者 會 上 ， 被 問到 美國 可能 派 陸戰隊 赴 台灣 的 消息 時 ， 他 表示 ， 美國應 該 謹 慎行 事 。 陸慷說 ： 「 中美關 係 的 政治 先決 條件 ， 是 美國 嚴格 遵守 自身 的 『 一個 中國 』 承諾 ， 不 與 台灣 有 任何 官方 交流 或 軍事 接觸 。 美國 很 清楚 中國 的 立場 ， 也 知道 為 了 避免 影響 雙邊 整體關 係 ， 必須 在 這件 事 上 謹 慎行 事 。 」 （ 譯者 ： 張正 芊 / 核稿 ： 嚴思祺 ） 1070629  0.518020510673523 238\n"
     ]
    }
   ],
   "source": [
    "#找到與特定文章strl相似的文章\n",
    "\n",
    "for count, sim in sims:\n",
    "    print(count,sim)\n",
    "    sentence = c[count]\n",
    "    words = ''\n",
    "    \n",
    "    for word in sentence[0]:\n",
    "        words = words + word +' '\n",
    "    print(words,sim,len(sentence[0]))\n",
    "    "
   ]
  },
  {
   "cell_type": "code",
   "execution_count": 16,
   "metadata": {},
   "outputs": [
    {
     "name": "stdout",
     "output_type": "stream",
     "text": [
      "                                             content             title  \\\n",
      "0  前 總統 馬 英九 （ 右 ） 30 日 在 立法院 出席 「 青島東 很多 派 對 」 第...   馬英九出席國會青年體驗營（1）   \n",
      "1  國民黨 台北市 長 參選人 丁守中 （ 前右 ） 30 日 在 台北 出席 「 中華海峽 兩...      丁守中與吳伯雄同台（2）   \n",
      "2  國民黨 台北市 長 參選人 丁守中 （ 左 ） 30 日 在 台北 出席 「 中華海峽 兩岸...      丁守中與吳伯雄同台（1）   \n",
      "3  （ 中央社 記者 蕭博陽 南投 縣 30 日電 ） 總統 蔡 英文 今天 視察 草屯 植物 ...  墓仔埔變公園 總統肯定洪國浩施政   \n",
      "4  （ 中央社 記者 王淑芬 高雄 30 日電 ） 總統府 秘書長 陳 菊 今天 南下 出席 高...  陳菊：為陳其邁輔選是應該也是責任   \n",
      "\n",
      "                                             d2v_Vec  \n",
      "0  [0.23528457, -1.2880014, -0.53503346, -1.02029...  \n",
      "1  [-0.056727484, -0.8294517, -0.5735456, -1.0049...  \n",
      "2  [-0.017541343, -0.6924254, -0.45178822, -0.795...  \n",
      "3  [1.2334144, -0.10023116, -3.6274984, -1.173198...  \n",
      "4  [-1.1006318, 0.49320358, -0.094546005, 0.11488...  \n"
     ]
    }
   ],
   "source": [
    "#跑很久喔!請小心\n",
    "#所有的文章都得到固定長度的vec\n",
    "df['d2v_Vec']='0'\n",
    "for i in range(0,300):\n",
    "    strl=df.iloc[i,0]\n",
    "    test_text=strl.split(' ')\n",
    "    #得到向量array命名為inferred_vector\n",
    "    inferred_vector=model_dm.infer_vector(doc_words=test_text,alpha=0.025,steps=500)\n",
    "    \n",
    "    df.loc[i,'d2v_Vec']=list(inferred_vector)\n",
    "    \n",
    "print(df.head())    "
   ]
  },
  {
   "cell_type": "code",
   "execution_count": 18,
   "metadata": {
    "scrolled": true
   },
   "outputs": [],
   "source": [
    "#轉成list，kmean才可以讀\n",
    "infered_vectors_list=list(df['d2v_Vec'])\n"
   ]
  },
  {
   "cell_type": "code",
   "execution_count": 19,
   "metadata": {},
   "outputs": [],
   "source": [
    "from sklearn.cluster import KMeans\n",
    "from sklearn.metrics import silhouette_score\n",
    "import matplotlib.pyplot as plt\n",
    "%matplotlib inline\n",
    "scores=[]\n",
    "ks=[]\n",
    "\n",
    "for i in range(2, 11):\n",
    "    clu = KMeans(n_clusters= i)\n",
    "    clu.fit(infered_vectors_list)\n",
    "    clu_score = silhouette_score(infered_vectors_list, clu.labels_)\n",
    "    scores.append(clu_score)\n",
    "    ks.append(i)"
   ]
  },
  {
   "cell_type": "code",
   "execution_count": 20,
   "metadata": {},
   "outputs": [
    {
     "name": "stdout",
     "output_type": "stream",
     "text": [
      "分數 : [0.1716053, 0.13431266, 0.09306431, 0.10342569, 0.14213666, 0.12639947, 0.12940107, 0.109221265, 0.12772143]\n",
      "K值 : [2, 3, 4, 5, 6, 7, 8, 9, 10]\n"
     ]
    },
    {
     "data": {
      "text/plain": [
       "[<matplotlib.lines.Line2D at 0x1d33129e588>]"
      ]
     },
     "execution_count": 20,
     "metadata": {},
     "output_type": "execute_result"
    },
    {
     "data": {
      "image/png": "[encoded data removed]",
      "text/plain": [
       "<Figure size 432x288 with 1 Axes>"
      ]
     },
     "metadata": {
      "needs_background": "light"
     },
     "output_type": "display_data"
    }
   ],
   "source": [
    "print(\"分數 :\", scores)\n",
    "print(\"K值 :\", ks)\n",
    "plt.plot(scores, ks)"
   ]
  },
  {
   "cell_type": "code",
   "execution_count": 21,
   "metadata": {},
   "outputs": [
    {
     "data": {
      "text/plain": [
       "array([3, 3, 3, 2, 3, 3, 4, 3, 3, 0, 4, 2, 0, 0, 3, 0, 0, 4, 2, 1, 5, 0,\n",
       "       4, 4, 0, 3, 4, 3, 4, 4, 4, 0, 4, 3, 3, 2, 2, 0, 2, 3, 2, 3, 3, 3,\n",
       "       3, 3, 3, 0, 5, 3, 0, 0, 0, 3, 0, 1, 4, 4, 3, 3, 3, 2, 0, 4, 3, 3,\n",
       "       0, 4, 4, 5, 3, 4, 0, 3, 3, 2, 3, 3, 3, 1, 3, 3, 3, 4, 4, 4, 2, 0,\n",
       "       0, 2, 4, 3, 4, 4, 4, 3, 3, 3, 3, 3, 3, 3, 3, 3, 4, 2, 4, 4, 4, 2,\n",
       "       4, 5, 5, 3, 0, 3, 4, 3, 2, 4, 0, 0, 3, 2, 2, 3, 3, 3, 2, 4, 0, 0,\n",
       "       0, 3, 0, 4, 4, 0, 2, 0, 0, 3, 0, 0, 0, 2, 3, 5, 3, 0, 3, 3, 3, 4,\n",
       "       3, 3, 3, 3, 3, 2, 3, 4, 4, 4, 4, 4, 4, 4, 2, 3, 0, 3, 4, 4, 4, 3,\n",
       "       4, 3, 2, 2, 3, 3, 3, 4, 4, 4, 4, 4, 4, 2, 4, 3, 4, 4, 5, 4, 3, 3,\n",
       "       4, 3, 3, 3, 3, 0, 5, 3, 5, 3, 3, 3, 3, 3, 3, 3, 3, 3, 0, 3, 3, 5,\n",
       "       3, 3, 2, 0, 3, 3, 3, 5, 1, 0, 3, 3, 2, 2, 4, 2, 2, 2, 2, 2, 2, 2,\n",
       "       3, 2, 2, 2, 3, 2, 1, 2, 2, 3, 2, 2, 4, 0, 3, 4, 3, 0, 0, 3, 2, 0,\n",
       "       2, 0, 2, 2, 0, 0, 0, 3, 3, 3, 2, 3, 3, 4, 0, 2, 4, 3, 5, 3, 3, 3,\n",
       "       3, 0, 0, 4, 3, 2, 2, 2, 4, 0, 3, 3, 3, 3])"
      ]
     },
     "execution_count": 21,
     "metadata": {},
     "output_type": "execute_result"
    }
   ],
   "source": [
    "from sklearn.cluster import KMeans\n",
    "clu=(KMeans(n_clusters= 6))\n",
    "clu.fit(infered_vectors_list)\n",
    "clu.labels_"
   ]
  },
  {
   "cell_type": "code",
   "execution_count": 22,
   "metadata": {},
   "outputs": [],
   "source": [
    "df['group']='0'\n",
    "# df\n",
    "for idx in range(0,300):\n",
    "    df.loc[idx, 'group'] = clu.labels_[idx]\n"
   ]
  },
  {
   "cell_type": "code",
   "execution_count": 23,
   "metadata": {},
   "outputs": [
    {
     "data": {
      "text/html": [
       "<div>\n",
       "<style scoped>\n",
       "    .dataframe tbody tr th:only-of-type {\n",
       "        vertical-align: middle;\n",
       "    }\n",
       "\n",
       "    .dataframe tbody tr th {\n",
       "        vertical-align: top;\n",
       "    }\n",
       "\n",
       "    .dataframe thead th {\n",
       "        text-align: right;\n",
       "    }\n",
       "</style>\n",
       "<table border=\"1\" class=\"dataframe\">\n",
       "  <thead>\n",
       "    <tr style=\"text-align: right;\">\n",
       "      <th></th>\n",
       "      <th>content</th>\n",
       "      <th>title</th>\n",
       "      <th>d2v_Vec</th>\n",
       "      <th>group</th>\n",
       "    </tr>\n",
       "  </thead>\n",
       "  <tbody>\n",
       "    <tr>\n",
       "      <th>0</th>\n",
       "      <td>前 總統 馬 英九 （ 右 ） 30 日 在 立法院 出席 「 青島東 很多 派 對 」 第...</td>\n",
       "      <td>馬英九出席國會青年體驗營（1）</td>\n",
       "      <td>[0.23528457, -1.2880014, -0.53503346, -1.02029...</td>\n",
       "      <td>3</td>\n",
       "    </tr>\n",
       "    <tr>\n",
       "      <th>1</th>\n",
       "      <td>國民黨 台北市 長 參選人 丁守中 （ 前右 ） 30 日 在 台北 出席 「 中華海峽 兩...</td>\n",
       "      <td>丁守中與吳伯雄同台（2）</td>\n",
       "      <td>[-0.056727484, -0.8294517, -0.5735456, -1.0049...</td>\n",
       "      <td>3</td>\n",
       "    </tr>\n",
       "    <tr>\n",
       "      <th>2</th>\n",
       "      <td>國民黨 台北市 長 參選人 丁守中 （ 左 ） 30 日 在 台北 出席 「 中華海峽 兩岸...</td>\n",
       "      <td>丁守中與吳伯雄同台（1）</td>\n",
       "      <td>[-0.017541343, -0.6924254, -0.45178822, -0.795...</td>\n",
       "      <td>3</td>\n",
       "    </tr>\n",
       "    <tr>\n",
       "      <th>3</th>\n",
       "      <td>（ 中央社 記者 蕭博陽 南投 縣 30 日電 ） 總統 蔡 英文 今天 視察 草屯 植物 ...</td>\n",
       "      <td>墓仔埔變公園 總統肯定洪國浩施政</td>\n",
       "      <td>[1.2334144, -0.10023116, -3.6274984, -1.173198...</td>\n",
       "      <td>2</td>\n",
       "    </tr>\n",
       "    <tr>\n",
       "      <th>4</th>\n",
       "      <td>（ 中央社 記者 王淑芬 高雄 30 日電 ） 總統府 秘書長 陳 菊 今天 南下 出席 高...</td>\n",
       "      <td>陳菊：為陳其邁輔選是應該也是責任</td>\n",
       "      <td>[-1.1006318, 0.49320358, -0.094546005, 0.11488...</td>\n",
       "      <td>3</td>\n",
       "    </tr>\n",
       "  </tbody>\n",
       "</table>\n",
       "</div>"
      ],
      "text/plain": [
       "                                             content             title  \\\n",
       "0  前 總統 馬 英九 （ 右 ） 30 日 在 立法院 出席 「 青島東 很多 派 對 」 第...   馬英九出席國會青年體驗營（1）   \n",
       "1  國民黨 台北市 長 參選人 丁守中 （ 前右 ） 30 日 在 台北 出席 「 中華海峽 兩...      丁守中與吳伯雄同台（2）   \n",
       "2  國民黨 台北市 長 參選人 丁守中 （ 左 ） 30 日 在 台北 出席 「 中華海峽 兩岸...      丁守中與吳伯雄同台（1）   \n",
       "3  （ 中央社 記者 蕭博陽 南投 縣 30 日電 ） 總統 蔡 英文 今天 視察 草屯 植物 ...  墓仔埔變公園 總統肯定洪國浩施政   \n",
       "4  （ 中央社 記者 王淑芬 高雄 30 日電 ） 總統府 秘書長 陳 菊 今天 南下 出席 高...  陳菊：為陳其邁輔選是應該也是責任   \n",
       "\n",
       "                                             d2v_Vec group  \n",
       "0  [0.23528457, -1.2880014, -0.53503346, -1.02029...     3  \n",
       "1  [-0.056727484, -0.8294517, -0.5735456, -1.0049...     3  \n",
       "2  [-0.017541343, -0.6924254, -0.45178822, -0.795...     3  \n",
       "3  [1.2334144, -0.10023116, -3.6274984, -1.173198...     2  \n",
       "4  [-1.1006318, 0.49320358, -0.094546005, 0.11488...     3  "
      ]
     },
     "execution_count": 23,
     "metadata": {},
     "output_type": "execute_result"
    }
   ],
   "source": [
    "df.head()"
   ]
  },
  {
   "cell_type": "code",
   "execution_count": 24,
   "metadata": {},
   "outputs": [
    {
     "name": "stdout",
     "output_type": "stream",
     "text": [
      "                                               content group\n",
      "110  【 記者 簡玲穎 台北 報導 】 日本 產經 新聞 報導 專訪 外交部 長 吳釗燮 的 內容...     4\n",
      "192  （ 中央社 華盛頓 29 日 綜合 外電 報導 ） 兩名 美國 官員 告訴 美國 有線 電視...     4\n",
      "195  （ 中央社 華盛頓 29 日 綜合 外電 報導 ） 兩名 美國 官員 告訴 美國 有線 電視...     4\n",
      "57   兩名 美國 官員 告訴 美國 有線 電視 新聞網 （ Ｃ Ｎ Ｎ ） ， 美國 國務院 已 ...     4\n",
      "6    （ 中央社 記者 游凱翔 台北 30 日電 ） CNN 報導 ， 美國 國務院 已 要求 派...     4\n"
     ]
    }
   ],
   "source": [
    "### 取第0個值_行，在第0個欄位('content')_欄\n",
    "print(df.iloc[[110,192,195,57,6],[0,3]])"
   ]
  },
  {
   "cell_type": "code",
   "execution_count": 39,
   "metadata": {},
   "outputs": [
    {
     "data": {
      "text/html": [
       "<div>\n",
       "<style scoped>\n",
       "    .dataframe tbody tr th:only-of-type {\n",
       "        vertical-align: middle;\n",
       "    }\n",
       "\n",
       "    .dataframe tbody tr th {\n",
       "        vertical-align: top;\n",
       "    }\n",
       "\n",
       "    .dataframe thead th {\n",
       "        text-align: right;\n",
       "    }\n",
       "</style>\n",
       "<table border=\"1\" class=\"dataframe\">\n",
       "  <thead>\n",
       "    <tr style=\"text-align: right;\">\n",
       "      <th></th>\n",
       "      <th>content</th>\n",
       "      <th>title</th>\n",
       "      <th>d2v_Vec</th>\n",
       "      <th>group</th>\n",
       "    </tr>\n",
       "  </thead>\n",
       "  <tbody>\n",
       "  </tbody>\n",
       "</table>\n",
       "</div>"
      ],
      "text/plain": [
       "Empty DataFrame\n",
       "Columns: [content, title, d2v_Vec, group]\n",
       "Index: []"
      ]
     },
     "execution_count": 39,
     "metadata": {},
     "output_type": "execute_result"
    }
   ],
   "source": [
    "df[df['group'] == 6]"
   ]
  },
  {
   "cell_type": "code",
   "execution_count": null,
   "metadata": {},
   "outputs": [],
   "source": []
  }
 ],
 "metadata": {
  "kernelspec": {
   "display_name": "Python 3",
   "language": "python",
   "name": "python3"
  },
  "language_info": {
   "codemirror_mode": {
    "name": "ipython",
    "version": 3
   },
   "file_extension": ".py",
   "mimetype": "text/x-python",
   "name": "python",
   "nbconvert_exporter": "python",
   "pygments_lexer": "ipython3",
   "version": "3.6.0"
  }
 },
 "nbformat": 4,
 "nbformat_minor": 2
}
