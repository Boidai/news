{
 "cells": [
  {
   "cell_type": "code",
   "execution_count": 1,
   "metadata": {},
   "outputs": [
    {
     "name": "stdout",
     "output_type": "stream",
     "text": [
      "Requirement already satisfied: redis in /opt/conda/lib/python3.6/site-packages (3.0.1)\n",
      "Requirement already satisfied: line-bot-sdk in /opt/conda/lib/python3.6/site-packages (1.8.0)\n",
      "Requirement already satisfied: requests>=2.0 in /opt/conda/lib/python3.6/site-packages (from line-bot-sdk) (2.19.1)\n",
      "Requirement already satisfied: future in /opt/conda/lib/python3.6/site-packages (from line-bot-sdk) (0.17.1)\n",
      "Requirement already satisfied: chardet<3.1.0,>=3.0.2 in /opt/conda/lib/python3.6/site-packages (from requests>=2.0->line-bot-sdk) (3.0.4)\n",
      "Requirement already satisfied: idna<2.8,>=2.5 in /opt/conda/lib/python3.6/site-packages (from requests>=2.0->line-bot-sdk) (2.7)\n",
      "Requirement already satisfied: urllib3<1.24,>=1.21.1 in /opt/conda/lib/python3.6/site-packages (from requests>=2.0->line-bot-sdk) (1.23)\n",
      "Requirement already satisfied: certifi>=2017.4.17 in /opt/conda/lib/python3.6/site-packages (from requests>=2.0->line-bot-sdk) (2018.8.13)\n"
     ]
    }
   ],
   "source": [
    "!pip install redis\n",
    "!pip install line-bot-sdk"
   ]
  },
  {
   "cell_type": "code",
   "execution_count": 2,
   "metadata": {},
   "outputs": [],
   "source": [
    "\"\"\"\n",
    "\n",
    "    1.針對跟redis的連線\n",
    "    \n",
    "\n",
    "\"\"\"\n",
    "\n",
    "import redis\n",
    "\n",
    "#製作redis連線\n",
    "redis = redis.Redis(\n",
    "    #redis container的host name\n",
    "    host='redis',\n",
    "    port=6379,\n",
    "    #預設沒密碼\n",
    "    password=None,\n",
    "    #給格式\n",
    "    charset=\"utf-8\",\n",
    "    #要解碼不然回傳的資料前面會多一個b\n",
    "    decode_responses=True)\n"
   ]
  },
  {
   "cell_type": "code",
   "execution_count": 3,
   "metadata": {},
   "outputs": [
    {
     "data": {
      "text/plain": [
       "0"
      ]
     },
     "execution_count": 3,
     "metadata": {},
     "output_type": "execute_result"
    }
   ],
   "source": [
    "#redis.hmset(\"test\",{\"message\":\"88\"})\n",
    "redis.sadd(\"my_set\", \"87\", \"88\", \"89\")"
   ]
  },
  {
   "cell_type": "code",
   "execution_count": 4,
   "metadata": {},
   "outputs": [
    {
     "data": {
      "text/plain": [
       "True"
      ]
     },
     "execution_count": 4,
     "metadata": {},
     "output_type": "execute_result"
    }
   ],
   "source": [
    "redis.scard(\"my_set\")\n",
    "redis.smembers(\"my_set\")\n",
    "\"87\" in redis.smembers(\"my_set\")"
   ]
  },
  {
   "cell_type": "code",
   "execution_count": 5,
   "metadata": {},
   "outputs": [
    {
     "name": "stdout",
     "output_type": "stream",
     "text": [
      "Collecting python-logstash\n",
      "  Downloading https://files.pythonhosted.org/packages/4e/8d/7ff2e8e8e2613e7bb7654790480bb4cf51a55721371adbb631b16cb16dce/python-logstash-0.4.6.tar.gz\n",
      "Building wheels for collected packages: python-logstash\n",
      "  Running setup.py bdist_wheel for python-logstash ... \u001b[?25ldone\n",
      "\u001b[?25h  Stored in directory: /home/jovyan/.cache/pip/wheels/ae/be/2d/626d5c1fa358aada2de09a07c2318848ad35afada0f9651665\n",
      "Successfully built python-logstash\n",
      "Installing collected packages: python-logstash\n",
      "Successfully installed python-logstash-0.4.6\n"
     ]
    }
   ],
   "source": [
    "!pip install python-logstash"
   ]
  },
  {
   "cell_type": "code",
   "execution_count": 6,
   "metadata": {},
   "outputs": [
    {
     "name": "stdout",
     "output_type": "stream",
     "text": [
      "done,please see kibana\n"
     ]
    }
   ],
   "source": [
    "import logging\n",
    "import logstash\n",
    "import sys\n",
    "\n",
    "host = 'logstash'\n",
    "\n",
    "test_logger = logging.getLogger('python-logstash-logger')\n",
    "test_logger.setLevel(logging.INFO)\n",
    "\n",
    "# UDP\n",
    "# test_logger.addHandler(logstash.LogstashHandler(host, 12201, version=1))\n",
    "\n",
    "# TCP\n",
    "test_logger.addHandler(logstash.TCPLogstashHandler(host, 5000, version=1))\n",
    "\n",
    "# test_logger.error('python-logstash: test logstash error message.')\n",
    "# test_logger.info('python-logstash: test logstash info message.')\n",
    "# test_logger.warning('python-logstash: test logstash warning message.')\n",
    "\n",
    "# add extra field to logstash message\n",
    "extra = {\n",
    "    'test_string': 'python version: ' + repr(sys.version_info),\n",
    "    'test_boolean': True,\n",
    "    'test_dict': {'a': 1, 'b': 'c'},\n",
    "    'test_float': 1.23,\n",
    "    'test_integer': 123,\n",
    "    'test_list': [1, 2, '3'],\n",
    "}\n",
    "test_logger.error('python-logstash: test extra fields', extra=extra)\n",
    "test_logger.handlers.clear()\n",
    "print('done,please see kibana')"
   ]
  },
  {
   "cell_type": "code",
   "execution_count": 7,
   "metadata": {},
   "outputs": [],
   "source": [
    "import redis\n",
    "from hashlib import md5\n",
    "\n",
    "\n",
    "class SimpleHash(object):\n",
    "    def __init__(self, cap, seed):\n",
    "        self.cap = cap\n",
    "        self.seed = seed\n",
    "\n",
    "    def hash(self, value):\n",
    "        ret = 0\n",
    "        for i in range(len(value)):\n",
    "            ret += self.seed * ret + ord(value[i])\n",
    "        return (self.cap - 1) & ret\n",
    "\n",
    "\n",
    "class BloomFilter(object):\n",
    "    def __init__(self, host='redis', port=6379, db=0, blockNum=1, key='bloomfilter'):\n",
    "        \"\"\"\n",
    "        :param host: the host of Redis\n",
    "        :param port: the port of Redis\n",
    "        :param db: witch db in Redis\n",
    "        :param blockNum: one blockNum for about 90,000,000; if you have more strings for filtering, increase it.\n",
    "        :param key: the key's name in Redis\n",
    "        \"\"\"\n",
    "        self.server = redis.Redis(host=host, port=port, db=db)\n",
    "        self.bit_size = 1 << 31  # Redis的String类型最大容量为512M，现使用256M\n",
    "        self.seeds = [5, 7, 11, 13, 31, 37, 61]\n",
    "        self.key = key\n",
    "        self.blockNum = blockNum\n",
    "        self.hashfunc = []\n",
    "        for seed in self.seeds:\n",
    "            self.hashfunc.append(SimpleHash(self.bit_size, seed))\n",
    "\n",
    "    def isContains(self, str_input):\n",
    "        if not str_input:\n",
    "            return False\n",
    "        m5 = md5()\n",
    "        m5.update(str_input)\n",
    "        str_input = m5.hexdigest()\n",
    "        ret = True\n",
    "        name = self.key + str(int(str_input[0:2], 16) % self.blockNum)\n",
    "        for f in self.hashfunc:\n",
    "            loc = f.hash(str_input)\n",
    "            ret = ret & self.server.getbit(name, loc)\n",
    "        return ret\n",
    "\n",
    "    def insert(self, str_input):\n",
    "        m5 = md5()\n",
    "        m5.update(str_input)\n",
    "        str_input = m5.hexdigest()\n",
    "        name = self.key + str(int(str_input[0:2], 16) % self.blockNum)\n",
    "        for f in self.hashfunc:\n",
    "            loc = f.hash(str_input)\n",
    "            self.server.setbit(name, loc, 1)"
   ]
  },
  {
   "cell_type": "code",
   "execution_count": 12,
   "metadata": {},
   "outputs": [
    {
     "name": "stdout",
     "output_type": "stream",
     "text": [
      "exists!\n"
     ]
    }
   ],
   "source": [
    "import redis\n",
    "from hashlib import md5\n",
    "\n",
    "            \n",
    "bf = BloomFilter()\n",
    "url = \"https://tw.news.appledaily.com/politics/realtime/20181125/1473059/sdasdasd\"\n",
    "url = url.encode('utf-8')\n",
    "if bf.isContains(url):   # 判断字符串是否存在\n",
    "    print('exists!')\n",
    "else:\n",
    "    print('not exists!')\n",
    "    bf.insert(url)"
   ]
  },
  {
   "cell_type": "code",
   "execution_count": 13,
   "metadata": {},
   "outputs": [
    {
     "name": "stdout",
     "output_type": "stream",
     "text": [
      "Mon Dec 10 11:21:19 2018\n"
     ]
    }
   ],
   "source": [
    "import time\n",
    "\n",
    "print(time.asctime())"
   ]
  },
  {
   "cell_type": "code",
   "execution_count": 12,
   "metadata": {},
   "outputs": [
    {
     "data": {
      "text/plain": [
       "datetime.date(2018, 12, 10)"
      ]
     },
     "execution_count": 12,
     "metadata": {},
     "output_type": "execute_result"
    }
   ],
   "source": [
    "import datetime\n",
    "today = datetime.date.today()\n",
    "today"
   ]
  },
  {
   "cell_type": "code",
   "execution_count": 2,
   "metadata": {},
   "outputs": [
    {
     "name": "stdout",
     "output_type": "stream",
     "text": [
      "<Response [200]>\n",
      "{\n",
      "  \"status_describe\": \"News https://tw.news.appledaily.com//politics/realtime/20181110/1463926/ is exist.\"\n",
      "}\n",
      "\n"
     ]
    }
   ],
   "source": [
    "import requests\n",
    "import json\n",
    "\n",
    "ip_location='chatbot_api'\n",
    "\n",
    "News = {  \n",
    "    \"source\": \"蘋果日報\",\n",
    "    \"label\":\"blue\",\n",
    "    \"ariticle_emotion\" : \"positive\",\n",
    "    \"title\" : \"「夜襲」激化綠支持者 陳其邁：明晚兩倍人數攻旗美\",\n",
    "    \"url\" : 'https://tw.news.appledaily.com//politics/realtime/20181110/1463926/',\n",
    "    \"date_\" : '2018/11/10 12:15',\n",
    "    \"content\" : '高雄市長選戰進入肉搏戰。繼國民黨韓國瑜陣營前天在美濃高美醫專舉辦宣稱逾3邁人造勢大會後，對手、民進黨籍陳其邁明晚也將在旗山體育場，舉辦造勢晚會拼場，陳其邁競選總部總協調陳啟昱表示，韓國瑜高美醫醫專場動員100輛遊覽車，「我們會加倍」，加上韓前晚唱「夜襲」軍歌，激化綠營支持者，明將有大批人潮湧進旗山體育場，陪陳其邁決戰大旗美。\\xa0陳啟昱今與陳其邁競選總部總幹事、立委劉世芳合開記者會。陳啟昱說，韓國瑜高美醫專場，其支持者、高市農會理事長蕭漢俊稱動員100輛遊覽車，明天陳其邁在旗山體育場晚會，「我們會動員兩倍量」，且韓國瑜前晚唱「夜襲」，讓選情緊張，激化綠營支持者的心，「要參加（明晚）其邁造勢晚會詢問電話已大量湧入。」\\xa0劉世芳說，韓國瑜的造勢晚會，成反年改陣營的歡樂派對，人多卻未必有選票。陳啟昱說，分析死忠「韓粉」，不少是反年改、反軍改成員，「這些人動員人力強」，但很多是從中北部而來。\\xa0陳啟昱說，韓國瑜在晚會唱「夜襲」，明晚陳其邁晚會則請歌手許富凱、詹雅雯來演唱，氣氛決對和韓場不一樣。（吳慧芬／高雄報導）',\n",
    "    \"img_url\" : 'https://tw.news.appledaily.com//politics/realtime/20181110',\n",
    "    \"kw\": ['高雄選區', '陳其邁', '造勢', '旗山'],\n",
    "    \"author\": ['吳慧芬'],\n",
    "    \"abstract\": \"高雄市長選戰進入肉搏戰。繼國民黨韓國瑜陣營前天在美濃高美醫專舉辦宣稱逾3邁人造勢大會後\"\n",
    "}\n",
    "\n",
    "# 將json傳回API Server\n",
    "Endpoint='http://%s:5000/news' % (ip_location)\n",
    "\n",
    "# header要特別註明是json格式\n",
    "Header={'Content-Type':'application/json'}\n",
    "\n",
    "# 傳送post對API server新增資料 \n",
    "Response=requests.post(Endpoint,headers=Header,data=json.dumps(News))\n",
    "\n",
    "#印出Response的資料訊息\n",
    "print(Response)\n",
    "print(Response.text)"
   ]
  },
  {
   "cell_type": "code",
   "execution_count": 2,
   "metadata": {},
   "outputs": [
    {
     "name": "stdout",
     "output_type": "stream",
     "text": [
      "<Response [200]>\n",
      "{\n",
      "  \"status_describe\": \"success add user\"\n",
      "}\n",
      "\n"
     ]
    }
   ],
   "source": [
    "import requests\n",
    "import json\n",
    "\n",
    "ip_location='chatbot_api'\n",
    "\n",
    "users = {\n",
    "    \"user_id\" : \"tyuetyok;tl,\",\n",
    "    \"display_name\" : \"宗翰\",\n",
    "    \"picture_url\" : \"https://tw.news.appledaily.com/\",\n",
    "    \"status_message\" : \"張良榮好帥\"\n",
    "}\n",
    "\n",
    "Endpoint='http://%s:5000/users' % (ip_location)\n",
    "\n",
    "# header要特別註明是json格式\n",
    "Header={'Content-Type':'application/json'}\n",
    "\n",
    "# 傳送post對API server新增資料 \n",
    "Response=requests.post(Endpoint,headers=Header,data=json.dumps(users))\n",
    "\n",
    "#印出Response的資料訊息\n",
    "print(Response)\n",
    "print(Response.text)"
   ]
  },
  {
   "cell_type": "code",
   "execution_count": 70,
   "metadata": {},
   "outputs": [
    {
     "name": "stdout",
     "output_type": "stream",
     "text": [
      "[\n",
      "  \"tyuetyok;tl,\", \n",
      "  \"U7bd8f7a1c9e46ae01e0a06f6b2b8fb27\"\n",
      "]\n",
      "\n"
     ]
    }
   ],
   "source": [
    "import requests\n",
    "import json\n",
    "\n",
    "ip_location='chatbot_api'\n",
    "\n",
    "Endpoint='http://%s:5000/users_id' % (ip_location)\n",
    "\n",
    "Response=requests.get(Endpoint)\n",
    "\n",
    "print(Response.text)\n",
    "\n"
   ]
  },
  {
   "cell_type": "code",
   "execution_count": 56,
   "metadata": {},
   "outputs": [
    {
     "name": "stdout",
     "output_type": "stream",
     "text": [
      "http://chatbot_api:5000/users/U7bd8f7a1c9e46ae01e0a06f6b2b8fb27\n",
      "{\n",
      "  \"display_name\": \"\\u826f\\u69ae\", \n",
      "  \"join_datetime\": \"Mon, 10 Dec 2018 10:06:37 GMT\", \n",
      "  \"picture_url\": \"https://profile.line-scdn.net/0m0454be2c7251432be899969ec8d168bc5c6dd86192a1\", \n",
      "  \"status_message\": null, \n",
      "  \"user_id\": \"U7bd8f7a1c9e46ae01e0a06f6b2b8fb27\"\n",
      "}\n",
      "\n"
     ]
    }
   ],
   "source": [
    "import requests\n",
    "import json\n",
    "\n",
    "ip_location='chatbot_api'\n",
    "playload = {\"userid\" : \"U7bd8f7a1c9e46ae01e0a06f6b2b8fb27\"}\n",
    "Endpoint='http://%s:5000/users/%s'% (ip_location, playload[\"userid\"])\n",
    "\n",
    "Response=requests.get(Endpoint)\n",
    "print(Response.url)\n",
    "\n",
    "print(Response.text)\n"
   ]
  },
  {
   "cell_type": "markdown",
   "metadata": {},
   "source": [
    "取出所有User的所有資料"
   ]
  },
  {
   "cell_type": "code",
   "execution_count": 71,
   "metadata": {},
   "outputs": [
    {
     "name": "stdout",
     "output_type": "stream",
     "text": [
      "[\n",
      "  {\n",
      "    \"display_name\": \"\\u5b97\\u7ff0\", \n",
      "    \"join_datetime\": \"Mon, 10 Dec 2018 18:10:19 GMT\", \n",
      "    \"picture_url\": \"https://tw.news.appledaily.com/\", \n",
      "    \"status_message\": \"\\u5f35\\u826f\\u69ae\\u597d\\u5e25\", \n",
      "    \"user_id\": \"tyuetyok;tl,\"\n",
      "  }, \n",
      "  {\n",
      "    \"display_name\": \"\\u826f\\u69ae\", \n",
      "    \"join_datetime\": \"Mon, 10 Dec 2018 10:06:37 GMT\", \n",
      "    \"picture_url\": \"https://profile.line-scdn.net/0m0454be2c7251432be899969ec8d168bc5c6dd86192a1\", \n",
      "    \"status_message\": null, \n",
      "    \"user_id\": \"U7bd8f7a1c9e46ae01e0a06f6b2b8fb27\"\n",
      "  }\n",
      "]\n",
      "\n"
     ]
    }
   ],
   "source": [
    "import requests\n",
    "import json\n",
    "\n",
    "ip_location='chatbot_api'\n",
    "\n",
    "Endpoint='http://%s:5000/users' % (ip_location)\n",
    "\n",
    "Response=requests.get(Endpoint)\n",
    "\n",
    "print(Response.text)"
   ]
  },
  {
   "cell_type": "code",
   "execution_count": null,
   "metadata": {},
   "outputs": [],
   "source": []
  },
  {
   "cell_type": "code",
   "execution_count": null,
   "metadata": {},
   "outputs": [],
   "source": []
  }
 ],
 "metadata": {
  "kernelspec": {
   "display_name": "Python 3",
   "language": "python",
   "name": "python3"
  },
  "language_info": {
   "codemirror_mode": {
    "name": "ipython",
    "version": 3
   },
   "file_extension": ".py",
   "mimetype": "text/x-python",
   "name": "python",
   "nbconvert_exporter": "python",
   "pygments_lexer": "ipython3",
   "version": "3.6.5"
  }
 },
 "nbformat": 4,
 "nbformat_minor": 2
}
