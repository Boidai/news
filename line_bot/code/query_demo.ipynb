{
 "cells": [
  {
   "cell_type": "markdown",
   "metadata": {},
   "source": [
    "存入News資料"
   ]
  },
  {
   "cell_type": "code",
   "execution_count": 6,
   "metadata": {},
   "outputs": [
    {
     "name": "stdout",
     "output_type": "stream",
     "text": [
      "<Response [200]>\n"
     ]
    },
    {
     "data": {
      "text/plain": [
       "{'status_describe': 'News https://tw.news.appledaily.com//politics/realtime/20181110/1463926/ is exist.'}"
      ]
     },
     "execution_count": 6,
     "metadata": {},
     "output_type": "execute_result"
    }
   ],
   "source": [
    "import requests\n",
    "import json\n",
    "\n",
    "ip_location='chatbot_api'\n",
    "\n",
    "News = {  \n",
    "    \"source\": \"蘋果日報\",\n",
    "    \"label\":\"blue\",\n",
    "    \"ariticle_emotion\" : \"positive\",\n",
    "    \"title\" : \"「夜襲」激化綠支持者 陳其邁：明晚兩倍人數攻旗美\",\n",
    "    \"url\" : 'https://tw.news.appledaily.com//politics/realtime/20181110/1463926/',\n",
    "    \"date_\" : '2018/11/10 12:15',\n",
    "    \"content\" : '高雄市長選戰進入肉搏戰。繼國民黨韓國瑜陣營前天在美濃高美醫專舉辦宣稱逾3邁人造勢大會後，對手、民進黨籍陳其邁明晚也將在旗山體育場，舉辦造勢晚會拼場，陳其邁競選總部總協調陳啟昱表示，韓國瑜高美醫醫專場動員100輛遊覽車，「我們會加倍」，加上韓前晚唱「夜襲」軍歌，激化綠營支持者，明將有大批人潮湧進旗山體育場，陪陳其邁決戰大旗美。\\xa0陳啟昱今與陳其邁競選總部總幹事、立委劉世芳合開記者會。陳啟昱說，韓國瑜高美醫專場，其支持者、高市農會理事長蕭漢俊稱動員100輛遊覽車，明天陳其邁在旗山體育場晚會，「我們會動員兩倍量」，且韓國瑜前晚唱「夜襲」，讓選情緊張，激化綠營支持者的心，「要參加（明晚）其邁造勢晚會詢問電話已大量湧入。」\\xa0劉世芳說，韓國瑜的造勢晚會，成反年改陣營的歡樂派對，人多卻未必有選票。陳啟昱說，分析死忠「韓粉」，不少是反年改、反軍改成員，「這些人動員人力強」，但很多是從中北部而來。\\xa0陳啟昱說，韓國瑜在晚會唱「夜襲」，明晚陳其邁晚會則請歌手許富凱、詹雅雯來演唱，氣氛決對和韓場不一樣。（吳慧芬／高雄報導）',\n",
    "    \"img_url\" : 'https://tw.news.appledaily.com//politics/realtime/20181110',\n",
    "    \"kw\": ['高雄選區', '陳其邁', '造勢', '旗山'],\n",
    "    \"author\": ['吳慧芬'],\n",
    "    \"abstract\": \"高雄市長選戰進入肉搏戰。繼國民黨韓國瑜陣營前天在美濃高美醫專舉辦宣稱逾3邁人造勢大會後\"\n",
    "}\n",
    "\n",
    "# 將json傳回API Server\n",
    "Endpoint='http://%s:5000/news' % (ip_location)\n",
    "\n",
    "# header要特別註明是json格式\n",
    "Header={'Content-Type':'application/json'}\n",
    "\n",
    "# 傳送post對API server新增資料 \n",
    "Response=requests.post(Endpoint,headers=Header,data=json.dumps(News))\n",
    "\n",
    "#印出Response的資料訊息\n",
    "print(Response)\n",
    "Response = Response.json()\n",
    "Response"
   ]
  },
  {
   "cell_type": "markdown",
   "metadata": {},
   "source": [
    "存入使用者資料"
   ]
  },
  {
   "cell_type": "code",
   "execution_count": 7,
   "metadata": {},
   "outputs": [
    {
     "name": "stdout",
     "output_type": "stream",
     "text": [
      "<Response [200]>\n"
     ]
    },
    {
     "data": {
      "text/plain": [
       "{'status_describe': \"User tyuetyok;tl, ('宗翰',) is already registered.\"}"
      ]
     },
     "execution_count": 7,
     "metadata": {},
     "output_type": "execute_result"
    }
   ],
   "source": [
    "import requests\n",
    "import json\n",
    "\n",
    "ip_location='chatbot_api'\n",
    "\n",
    "users = {\n",
    "    \"user_id\" : \"tyuetyok;tl,\",\n",
    "    \"display_name\" : \"宗翰\",\n",
    "    \"picture_url\" : \"https://tw.news.appledaily.com/\",\n",
    "    \"status_message\" : \"張良榮好帥\"\n",
    "}\n",
    "\n",
    "Endpoint='http://%s:5000/users' % (ip_location)\n",
    "\n",
    "# header要特別註明是json格式\n",
    "Header={'Content-Type':'application/json'}\n",
    "\n",
    "# 傳送post對API server新增資料 \n",
    "Response=requests.post(Endpoint,headers=Header,data=json.dumps(users))\n",
    "\n",
    "#印出Response的資料訊息\n",
    "print(Response)\n",
    "Response = Response.json()\n",
    "Response"
   ]
  },
  {
   "cell_type": "markdown",
   "metadata": {},
   "source": [
    "取出所有Userid"
   ]
  },
  {
   "cell_type": "code",
   "execution_count": 8,
   "metadata": {},
   "outputs": [
    {
     "data": {
      "text/plain": [
       "['tyuetyok;tl,', 'U7bd8f7a1c9e46ae01e0a06f6b2b8fb27']"
      ]
     },
     "execution_count": 8,
     "metadata": {},
     "output_type": "execute_result"
    }
   ],
   "source": [
    "import requests\n",
    "import json\n",
    "\n",
    "ip_location='chatbot_api'\n",
    "\n",
    "Endpoint='http://%s:5000/users_id' % (ip_location)\n",
    "\n",
    "Response=requests.get(Endpoint)\n",
    "\n",
    "Response = Response.json()\n",
    "Response\n"
   ]
  },
  {
   "cell_type": "markdown",
   "metadata": {},
   "source": [
    "取出個人用戶資料"
   ]
  },
  {
   "cell_type": "code",
   "execution_count": 9,
   "metadata": {},
   "outputs": [
    {
     "data": {
      "text/plain": [
       "{'display_name': '良榮',\n",
       " 'join_datetime': 'Mon, 10 Dec 2018 10:06:37 GMT',\n",
       " 'picture_url': 'https://profile.line-scdn.net/0m0454be2c7251432be899969ec8d168bc5c6dd86192a1',\n",
       " 'status_message': None,\n",
       " 'user_id': 'U7bd8f7a1c9e46ae01e0a06f6b2b8fb27'}"
      ]
     },
     "execution_count": 9,
     "metadata": {},
     "output_type": "execute_result"
    }
   ],
   "source": [
    "import requests\n",
    "import json\n",
    "\n",
    "ip_location='chatbot_api'\n",
    "playload = {\"userid\" : \"U7bd8f7a1c9e46ae01e0a06f6b2b8fb27\"}\n",
    "Endpoint='http://%s:5000/users/%s'% (ip_location, playload[\"userid\"])\n",
    "\n",
    "Response=requests.get(Endpoint)\n",
    "Response = Response.json()\n",
    "Response"
   ]
  },
  {
   "cell_type": "markdown",
   "metadata": {},
   "source": [
    "取出所有User的所有資料"
   ]
  },
  {
   "cell_type": "code",
   "execution_count": 11,
   "metadata": {},
   "outputs": [
    {
     "data": {
      "text/plain": [
       "[{'display_name': '宗翰',\n",
       "  'join_datetime': 'Mon, 10 Dec 2018 18:10:19 GMT',\n",
       "  'picture_url': 'https://tw.news.appledaily.com/',\n",
       "  'status_message': '張良榮好帥',\n",
       "  'user_id': 'tyuetyok;tl,'},\n",
       " {'display_name': '良榮',\n",
       "  'join_datetime': 'Mon, 10 Dec 2018 10:06:37 GMT',\n",
       "  'picture_url': 'https://profile.line-scdn.net/0m0454be2c7251432be899969ec8d168bc5c6dd86192a1',\n",
       "  'status_message': None,\n",
       "  'user_id': 'U7bd8f7a1c9e46ae01e0a06f6b2b8fb27'}]"
      ]
     },
     "execution_count": 11,
     "metadata": {},
     "output_type": "execute_result"
    }
   ],
   "source": [
    "import requests\n",
    "import json\n",
    "\n",
    "ip_location='chatbot_api'\n",
    "\n",
    "Endpoint='http://%s:5000/users' % (ip_location)\n",
    "\n",
    "Response=requests.get(Endpoint)\n",
    "\n",
    "Response = Response.json()\n",
    "Response"
   ]
  },
  {
   "cell_type": "markdown",
   "metadata": {},
   "source": [
    "利用title, 取出所有keyword"
   ]
  },
  {
   "cell_type": "code",
   "execution_count": 24,
   "metadata": {},
   "outputs": [
    {
     "data": {
      "text/plain": [
       "{'status_describe': \"This title 「夜襲」激化綠支持者  陳其邁：明晚兩倍人數攻旗美 can't find\"}"
      ]
     },
     "execution_count": 24,
     "metadata": {},
     "output_type": "execute_result"
    }
   ],
   "source": [
    "import requests\n",
    "import json\n",
    "\n",
    "ip_location='chatbot_api'\n",
    "playload = {\"title\" : \"「夜襲」激化綠支持者  陳其邁：明晚兩倍人數攻旗美\"}\n",
    "Endpoint='http://%s:5000/keyword_title/%s'% (ip_location, playload[\"title\"])\n",
    "\n",
    "Response=requests.get(Endpoint)\n",
    "\n",
    "Response = Response.json()\n",
    "Response"
   ]
  },
  {
   "cell_type": "markdown",
   "metadata": {},
   "source": [
    "利用新聞url，取出新聞關鍵字。"
   ]
  },
  {
   "cell_type": "code",
   "execution_count": 14,
   "metadata": {},
   "outputs": [
    {
     "data": {
      "text/plain": [
       "['高雄選區', '陳其邁', '造勢', '旗山']"
      ]
     },
     "execution_count": 14,
     "metadata": {},
     "output_type": "execute_result"
    }
   ],
   "source": [
    "import requests\n",
    "import json\n",
    "\n",
    "ip_location='chatbot_api'\n",
    "playload = {\"url\" : \"https://tw.news.appledaily.com//politics/realtime/20181110/1463926/\"}\n",
    "Endpoint='http://%s:5000/keyword_url/' % (ip_location)\n",
    "\n",
    "# header要特別註明是json格式\n",
    "Header={'Content-Type':'application/json'}\n",
    "\n",
    "# 傳送post對API server新增資料 \n",
    "Response=requests.post(Endpoint,headers=Header,data=json.dumps(playload))\n",
    "\n",
    "#印出Response的資料訊息\n",
    "Response = Response.json()\n",
    "Response"
   ]
  },
  {
   "cell_type": "code",
   "execution_count": 15,
   "metadata": {},
   "outputs": [
    {
     "data": {
      "text/plain": [
       "['「夜襲」激化綠支持者 陳其邁：明晚兩倍人數攻旗美']"
      ]
     },
     "execution_count": 15,
     "metadata": {},
     "output_type": "execute_result"
    }
   ],
   "source": [
    "import requests\n",
    "import json\n",
    "\n",
    "ip_location='chatbot_api'\n",
    "playload = {\"keyword\" : \"高雄選區\"}\n",
    "Endpoint='http://%s:5000/keyword/%s'% (ip_location, playload[\"keyword\"])\n",
    "\n",
    "Response=requests.get(Endpoint)\n",
    "\n",
    "Response = Response.json()\n",
    "Response"
   ]
  },
  {
   "cell_type": "code",
   "execution_count": null,
   "metadata": {},
   "outputs": [],
   "source": []
  }
 ],
 "metadata": {
  "kernelspec": {
   "display_name": "Python 3",
   "language": "python",
   "name": "python3"
  },
  "language_info": {
   "codemirror_mode": {
    "name": "ipython",
    "version": 3
   },
   "file_extension": ".py",
   "mimetype": "text/x-python",
   "name": "python",
   "nbconvert_exporter": "python",
   "pygments_lexer": "ipython3",
   "version": "3.6.5"
  }
 },
 "nbformat": 4,
 "nbformat_minor": 2
}
